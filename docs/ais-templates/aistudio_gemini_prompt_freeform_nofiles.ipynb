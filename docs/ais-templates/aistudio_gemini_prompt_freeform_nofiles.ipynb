{
  "cells": [
    {
      "cell_type": "markdown",
      "metadata": {
        "id": "Tce3stUlHN0L"
      },
      "source": [
        "##### Copyright 2023 Google LLC"
      ]
    },
    {
      "cell_type": "code",
      "execution_count": 2,
      "metadata": {
        "id": "tuOe1ymfHZPu"
      },
      "outputs": [],
      "source": [
        "# @title Licensed under the Apache License, Version 2.0 (the \"License\");\n",
        "# you may not use this file except in compliance with the License.\n",
        "# You may obtain a copy of the License at\n",
        "#\n",
        "# https://www.apache.org/licenses/LICENSE-2.0\n",
        "#\n",
        "# Unless required by applicable law or agreed to in writing, software\n",
        "# distributed under the License is distributed on an \"AS IS\" BASIS,\n",
        "# WITHOUT WARRANTIES OR CONDITIONS OF ANY KIND, either express or implied.\n",
        "# See the License for the specific language governing permissions and\n",
        "# limitations under the License."
      ]
    },
    {
      "cell_type": "markdown",
      "metadata": {
        "id": "FKwyTRdwB8aW"
      },
      "source": [
        "## Setup"
      ]
    },
    {
      "cell_type": "code",
      "execution_count": 3,
      "metadata": {
        "id": "RXInneX6xx7c"
      },
      "outputs": [],
      "source": [
        "!pip install -U -q \"google-generativeai>=0.8.2\""
      ]
    },
    {
      "cell_type": "code",
      "execution_count": 8,
      "metadata": {
        "id": "LB2LxPmAB95V",
        "outputId": "fecde3c8-f44a-4800-c154-c98be44c5d7a",
        "colab": {
          "base_uri": "https://localhost:8080/",
          "height": 74
        }
      },
      "outputs": [
        {
          "output_type": "display_data",
          "data": {
            "text/plain": [
              "<IPython.core.display.Markdown object>"
            ],
            "text/markdown": "#hello"
          },
          "metadata": {}
        }
      ],
      "source": [
        "from IPython.display import display\n",
        "from IPython.display import Markdown\n",
        "\n",
        "display(Markdown(\"#hello\"))"
      ]
    },
    {
      "cell_type": "code",
      "source": [
        "import os\n",
        "import google.generativeai as genai\n",
        "\n",
        "genai.configure(api_key=os.environ[\"GOOGLE_API_KEY\"])\n",
        "\n",
        "# Create the model\n",
        "generation_config = {\n",
        "  \"temperature\": 0.7,\n",
        "  \"top_p\": 0.95,\n",
        "  \"top_k\": 64,\n",
        "  \"max_output_tokens\": 65536,\n",
        "  \"response_mime_type\": \"text/plain\",\n",
        "}\n",
        "\n",
        "model = genai.GenerativeModel(\n",
        "  model_name=\"gemini-2.0-flash-thinking-exp-01-21\",\n",
        "  generation_config=generation_config,\n",
        ")\n",
        "\n",
        "chat_session = model.start_chat(\n",
        "  history=[\n",
        "    {\n",
        "      \"role\": \"user\",\n",
        "      \"parts\": [\n",
        "        \"hi\",\n",
        "      ],\n",
        "    },\n",
        "    {\n",
        "      \"role\": \"model\",\n",
        "      \"parts\": [\n",
        "        \"The user just said \\\"hi\\\". This is a very simple greeting.  My goal is to be friendly and respond in a way that encourages further interaction, if that's what the user wants.\\n\\nHere's a possible thought process:\\n\\n1. **Identify the user's input:** \\\"hi\\\" -  This is a greeting.\\n2. **Recognize the context:**  The context is a conversation with a language model. The user is initiating communication.\\n3. **Determine the appropriate response:**  A friendly and reciprocal greeting is appropriate.  A simple \\\"hi\\\" back would be minimal, and while polite, doesn't encourage further interaction.  A slightly more elaborated greeting is better.\\n4. **Consider different greeting options:**\\n    * \\\"Hi\\\" - Too simple.\\n    * \\\"Hello\\\" - Slightly more formal and polite. Good.\\n    * \\\"Hey there!\\\" -  More casual and friendly. Good for a conversational tone.\\n    * \\\"Greetings!\\\" -  A bit formal, maybe less common in casual conversation.\\n    * \\\"Hello! How can I help you today?\\\" -  Polite, friendly, and proactively offers assistance. This is a good option if the purpose is to be helpful.\\n    * \\\"Hi there! What can I do for you?\\\" - Similar to the above, slightly more casual.\\n    * \\\"Hello!  Nice to hear from you.\\\" -  Friendly and positive.\\n\\n5. **Evaluate the options based on desired outcome:** I want to be friendly and helpful and encourage the user to interact further if they have a question or task.  Options like \\\"Hello! How can I help you today?\\\" or \\\"Hi there! What can I do for you?\\\" are good because they are greetings *and* open the door for the user to ask something.\\n\\n6. **Choose the best option:** \\\"Hello! How can I help you today?\\\" is a good balance of politeness, friendliness, and helpfulness.  \\\"Hi there! What can I do for you?\\\" is slightly more casual and also good.  Let's go with \\\"Hello! How can I help you today?\\\" as it is slightly more standard and broadly applicable.\\n\\n7. **Construct the response:**  \\\"Hello! How can I help you today?\\\"\\n\\n8. **Review the response:**  This is a polite, friendly, and helpful response to a simple \\\"hi\\\". It opens the door for further interaction. It's a good choice.\\n\\nTherefore, \\\"Hello! How can I help you today?\\\" is a suitable response.\",\n",
        "        \"Hello there!  👋  How can I help you today? 😊\",\n",
        "      ],\n",
        "    },\n",
        "  ]\n",
        ")\n",
        "\n",
        "response = chat_session.send_message(\"explain the functions\")\n",
        "\n"
      ],
      "metadata": {
        "id": "W_pf4eC2zkiv"
      },
      "execution_count": 14,
      "outputs": []
    },
    {
      "cell_type": "code",
      "source": [
        "display(Markdown((response.text)))\n",
        "# print(response.text)"
      ],
      "metadata": {
        "id": "Qn3pMR2h03_t",
        "outputId": "1ccfdf28-4ab1-41ab-fce0-3023b4f1fef3",
        "colab": {
          "base_uri": "https://localhost:8080/",
          "height": 816
        }
      },
      "execution_count": 16,
      "outputs": [
        {
          "output_type": "display_data",
          "data": {
            "text/plain": [
              "<IPython.core.display.Markdown object>"
            ],
            "text/markdown": "Okay, \"functions\" is a pretty broad term! To give you the best explanation, could you tell me what kind of functions you are interested in?  \"Functions\" can mean different things depending on the context.\n\nHere are a few possibilities, and you can tell me which one you'd like me to explain, or if it's something else entirely:\n\n**1. Mathematical Functions:**\n\n* **What they are:**  A mathematical function is like a rule or a machine that takes an input (or several inputs), processes it according to a specific rule, and produces a single output.  Think of it like a transformation.\n* **Examples:**\n    * `f(x) = x + 2` (takes a number x, adds 2 to it)\n    * `g(x) = x²` (takes a number x, squares it)\n    * `sin(x)` (trigonometric function, takes an angle x and returns its sine)\n* **Concepts related to mathematical functions:** Domain, range, input, output, graphs, types of functions (linear, quadratic, exponential, trigonometric, etc.)\n\n**2. Programming Functions (in computer science):**\n\n* **What they are:**  A function in programming (also often called a subroutine, procedure, or method) is a block of organized, reusable code that is used to perform a single, related action. Functions help to break down larger programs into smaller and manageable modules, making code more organized, readable, and reusable.\n* **Examples (in Python-like pseudocode):**\n    ```python\n    def add_numbers(a, b):\n        sum = a + b\n        return sum\n\n    def greet(name):\n        print(\"Hello, \" + name + \"!\")\n    ```\n* **Concepts related to programming functions:**  Parameters (arguments), return values, function definition, function call, scope, modularity, code reuse.\n\n**3. Biological Functions (in biology):**\n\n* **What they are:**  In biology, \"function\" refers to the purpose or activity of a biological structure or process.  It describes what something *does* within a living organism to contribute to its survival and functioning.\n* **Examples:**\n    * The function of the heart is to pump blood throughout the body.\n    * The function of the lungs is to facilitate gas exchange (taking in oxygen and releasing carbon dioxide).\n    * The function of enzymes is to catalyze (speed up) biochemical reactions.\n* **Concepts related to biological functions:**  Organs, tissues, cells, systems, processes, adaptation, evolution.\n\n**4. Functions in Everyday Life (general purpose/purpose of things):**\n\n* **What they are:**  In a general sense, the \"function\" of something is its intended purpose or what it is designed to do.  It's about what something is *for*.\n* **Examples:**\n    * The function of a chair is to provide a place to sit.\n    * The function of a hammer is to drive nails.\n    * The function of language is to communicate.\n\n**Please tell me which of these types of \"functions\" you are interested in learning more about, or if you have something else in mind!**  Once you clarify, I can give you a more detailed and helpful explanation. 😊"
          },
          "metadata": {}
        }
      ]
    }
  ],
  "metadata": {
    "colab": {
      "collapsed_sections": [
        "Tce3stUlHN0L"
      ],
      "name": "aistudio_gemini_prompt_freeform_nofiles.ipynb",
      "provenance": []
    },
    "kernelspec": {
      "display_name": "Python 3",
      "name": "python3"
    }
  },
  "nbformat": 4,
  "nbformat_minor": 0
}